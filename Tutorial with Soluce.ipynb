{
 "cells": [
  {
   "cell_type": "markdown",
   "metadata": {},
   "source": [
    "## YOU CAN EXECUTE EACH CELL WITH CTRL+ENTER"
   ]
  },
  {
   "cell_type": "markdown",
   "metadata": {},
   "source": [
    "# Understand the Titanic Case\n",
    "\n",
    "The Titanic case is a famous Machine Learning problem.\n",
    "\n",
    "We have the passengers list, **and the goal is to predict who were likely to survive!**\n",
    "\n",
    "Yes, that is creepy ... but it works like a charm :)\n",
    "\n",
    "Learn it on [Kaggle](https://www.kaggle.com/c/titanic)!\n",
    "\n",
    "For this tutorial, you must fill the **TODO part** :"
   ]
  },
  {
   "cell_type": "code",
   "execution_count": 82,
   "metadata": {
    "collapsed": false
   },
   "outputs": [
    {
     "name": "stdout",
     "output_type": "stream",
     "text": [
      "Populating the interactive namespace from numpy and matplotlib\n"
     ]
    }
   ],
   "source": [
    "# Theses imports are for charts (with matplotlib and seaborn)\n",
    "%matplotlib inline\n",
    "%pylab inline\n",
    "pylab.rcParams['figure.figsize'] = (16, 8)\n",
    "\n",
    "import matplotlib.pyplot as plt\n",
    "import seaborn as sns\n",
    "\n",
    "sns.set_style('whitegrid')"
   ]
  },
  {
   "cell_type": "markdown",
   "metadata": {},
   "source": [
    "# Step 1: Load and analyze the data"
   ]
  },
  {
   "cell_type": "markdown",
   "metadata": {},
   "source": [
    "First, load the dataset with [pandas](http://pandas.pydata.org) and analyze metadata"
   ]
  },
  {
   "cell_type": "code",
   "execution_count": 83,
   "metadata": {
    "collapsed": true
   },
   "outputs": [],
   "source": [
    "# Import pandas library. By convention, pandas is renamed to 'pd'.\n",
    "import pandas as pd"
   ]
  },
  {
   "cell_type": "markdown",
   "metadata": {},
   "source": [
    "Load the dataset with [```pd.read_csv```](http://pandas.pydata.org/pandas-docs/stable/generated/pandas.read_csv.html) method and affect it to ```df``` (df = DataFrame)"
   ]
  },
  {
   "cell_type": "code",
   "execution_count": 84,
   "metadata": {
    "collapsed": true
   },
   "outputs": [],
   "source": [
    "# TODO\n",
    "df = pd.read_csv('data.csv')"
   ]
  },
  {
   "cell_type": "markdown",
   "metadata": {},
   "source": [
    "Show metadatas with the [```df.info()```](http://pandas.pydata.org/pandas-docs/stable/generated/pandas.DataFrame.info.html) method:"
   ]
  },
  {
   "cell_type": "code",
   "execution_count": 85,
   "metadata": {
    "collapsed": false,
    "scrolled": true
   },
   "outputs": [
    {
     "name": "stdout",
     "output_type": "stream",
     "text": [
      "<class 'pandas.core.frame.DataFrame'>\n",
      "Int64Index: 891 entries, 0 to 890\n",
      "Data columns (total 9 columns):\n",
      "id                 891 non-null int64\n",
      "name               891 non-null object\n",
      "gender             891 non-null object\n",
      "age                714 non-null float64\n",
      "sibling_spouse     891 non-null int64\n",
      "parent_children    891 non-null int64\n",
      "fare               891 non-null float64\n",
      "passenger_class    891 non-null object\n",
      "survived           891 non-null int64\n",
      "dtypes: float64(2), int64(4), object(3)\n",
      "memory usage: 69.6+ KB\n"
     ]
    }
   ],
   "source": [
    "# TODO\n",
    "df.info()"
   ]
  },
  {
   "cell_type": "markdown",
   "metadata": {},
   "source": [
    "Okay. Let's understand what we have :\n",
    "\n",
    "```\n",
    "RangeIndex: 891 entries, 0 to 890\n",
    "```\n",
    "\n",
    "We have 891 rows in the dataset.\n",
    "\n",
    "Columns are:\n",
    "\n",
    "* ```id```: Unique identifier of the passenger\n",
    "* ```name```: Name of the passenger\n",
    "* ```gender```: Sex of the passenger (male OR female)\n",
    "* ```age```: Age of the passenger (could be used to determine if passenger is a child or an adult)\n",
    "* ```sibling_spouse```: Number of siblings OR spouses with the passenger (brother, sister, spouse, etc.)\n",
    "* ```parent_children```: Number of parent OR children with the passenger (father, mother, son, daugther, etc.)\n",
    "* ```fare```: Ticket price\n",
    "* ```passenger_class```: Class of the ticket. There was 3 classes on the Titanic: 1st to 3th (1st is the most rich).\n",
    "* ```survived```: Does the passenger survived to the shipwreck ? We want to **predict** this column.\n",
    "\n",
    "Remark: The ```age``` column has empty value (714/891). If we use this column, we have to fill empty value (otherwise algorithm will crash)."
   ]
  },
  {
   "cell_type": "markdown",
   "metadata": {},
   "source": [
    "Show content with [```df.head()```](http://pandas.pydata.org/pandas-docs/stable/generated/pandas.DataFrame.head.html) method (the first 5 lines):"
   ]
  },
  {
   "cell_type": "code",
   "execution_count": 86,
   "metadata": {
    "collapsed": false,
    "scrolled": true
   },
   "outputs": [
    {
     "data": {
      "text/html": [
       "<div>\n",
       "<table border=\"1\" class=\"dataframe\">\n",
       "  <thead>\n",
       "    <tr style=\"text-align: right;\">\n",
       "      <th></th>\n",
       "      <th>id</th>\n",
       "      <th>name</th>\n",
       "      <th>gender</th>\n",
       "      <th>age</th>\n",
       "      <th>sibling_spouse</th>\n",
       "      <th>parent_children</th>\n",
       "      <th>fare</th>\n",
       "      <th>passenger_class</th>\n",
       "      <th>survived</th>\n",
       "    </tr>\n",
       "  </thead>\n",
       "  <tbody>\n",
       "    <tr>\n",
       "      <th>0</th>\n",
       "      <td>1</td>\n",
       "      <td>Braund, Mr. Owen Harris</td>\n",
       "      <td>male</td>\n",
       "      <td>22</td>\n",
       "      <td>1</td>\n",
       "      <td>0</td>\n",
       "      <td>7.2500</td>\n",
       "      <td>cl3</td>\n",
       "      <td>0</td>\n",
       "    </tr>\n",
       "    <tr>\n",
       "      <th>1</th>\n",
       "      <td>2</td>\n",
       "      <td>Cumings, Mrs. John Bradley (Florence Briggs Th...</td>\n",
       "      <td>female</td>\n",
       "      <td>38</td>\n",
       "      <td>1</td>\n",
       "      <td>0</td>\n",
       "      <td>71.2833</td>\n",
       "      <td>cl1</td>\n",
       "      <td>1</td>\n",
       "    </tr>\n",
       "    <tr>\n",
       "      <th>2</th>\n",
       "      <td>3</td>\n",
       "      <td>Heikkinen, Miss. Laina</td>\n",
       "      <td>female</td>\n",
       "      <td>26</td>\n",
       "      <td>0</td>\n",
       "      <td>0</td>\n",
       "      <td>7.9250</td>\n",
       "      <td>cl3</td>\n",
       "      <td>1</td>\n",
       "    </tr>\n",
       "    <tr>\n",
       "      <th>3</th>\n",
       "      <td>4</td>\n",
       "      <td>Futrelle, Mrs. Jacques Heath (Lily May Peel)</td>\n",
       "      <td>female</td>\n",
       "      <td>35</td>\n",
       "      <td>1</td>\n",
       "      <td>0</td>\n",
       "      <td>53.1000</td>\n",
       "      <td>cl1</td>\n",
       "      <td>1</td>\n",
       "    </tr>\n",
       "    <tr>\n",
       "      <th>4</th>\n",
       "      <td>5</td>\n",
       "      <td>Allen, Mr. William Henry</td>\n",
       "      <td>male</td>\n",
       "      <td>35</td>\n",
       "      <td>0</td>\n",
       "      <td>0</td>\n",
       "      <td>8.0500</td>\n",
       "      <td>cl3</td>\n",
       "      <td>0</td>\n",
       "    </tr>\n",
       "  </tbody>\n",
       "</table>\n",
       "</div>"
      ],
      "text/plain": [
       "   id                                               name  gender  age  \\\n",
       "0   1                            Braund, Mr. Owen Harris    male   22   \n",
       "1   2  Cumings, Mrs. John Bradley (Florence Briggs Th...  female   38   \n",
       "2   3                             Heikkinen, Miss. Laina  female   26   \n",
       "3   4       Futrelle, Mrs. Jacques Heath (Lily May Peel)  female   35   \n",
       "4   5                           Allen, Mr. William Henry    male   35   \n",
       "\n",
       "   sibling_spouse  parent_children     fare passenger_class  survived  \n",
       "0               1                0   7.2500             cl3         0  \n",
       "1               1                0  71.2833             cl1         1  \n",
       "2               0                0   7.9250             cl3         1  \n",
       "3               1                0  53.1000             cl1         1  \n",
       "4               0                0   8.0500             cl3         0  "
      ]
     },
     "execution_count": 86,
     "metadata": {},
     "output_type": "execute_result"
    }
   ],
   "source": [
    "# TODO\n",
    "df.head()"
   ]
  },
  {
   "cell_type": "markdown",
   "metadata": {},
   "source": [
    "# Step 2: Create our first model"
   ]
  },
  {
   "cell_type": "markdown",
   "metadata": {},
   "source": [
    "Now, it's time to create our first model. \n",
    "\n",
    "\n",
    "We will use a classic logistic regression ([```LogisticRegression```](http://scikit-learn.org/stable/modules/generated/sklearn.linear_model.LogisticRegression.html#sklearn.linear_model.LogisticRegression)) from [SciKit Learn](http://scikit-learn.org).\n",
    "\n",
    "But, we need to evaluate the model! So, we will use a cross validation function.\n",
    "\n",
    "This method will randomly split the dataset and check if the model can predict the real value."
   ]
  },
  {
   "cell_type": "code",
   "execution_count": 87,
   "metadata": {
    "collapsed": false
   },
   "outputs": [],
   "source": [
    "from sklearn.cross_validation import cross_val_score\n",
    "import numpy as np\n",
    "\n",
    "def compute_score(model, X, y):\n",
    "    # Evaluate the model with random train/set, 5 times\n",
    "    scores = cross_val_score(model, X, y, cv=5)\n",
    "    \n",
    "    # And return the average of the 5 scores\n",
    "    return np.mean(scores)"
   ]
  },
  {
   "cell_type": "markdown",
   "metadata": {},
   "source": [
    "To test our models, we need to define the target.\n",
    "\n",
    "Affect the ```df.survived``` column to the ```y``` value:"
   ]
  },
  {
   "cell_type": "code",
   "execution_count": 88,
   "metadata": {
    "collapsed": true
   },
   "outputs": [],
   "source": [
    "# TODO\n",
    "y = df.survived"
   ]
  },
  {
   "cell_type": "markdown",
   "metadata": {},
   "source": [
    "For our first model, we will use ```fare```, ```sibling_spouse``` and ```parent_children```.\n",
    "\n",
    "Affect theses columns to the ```X``` dataset:"
   ]
  },
  {
   "cell_type": "code",
   "execution_count": 89,
   "metadata": {
    "collapsed": false
   },
   "outputs": [],
   "source": [
    "# TODO\n",
    "X = df[['fare', 'sibling_spouse', 'parent_children']]"
   ]
  },
  {
   "cell_type": "markdown",
   "metadata": {},
   "source": [
    "Now, a ```X``` dataset can be trained with our ```y``` target.\n",
    "\n",
    "Instanciate a [```LogisticRegression```](http://scikit-learn.org/stable/modules/generated/sklearn.linear_model.LogisticRegression.html#sklearn.linear_model.LogisticRegression) classifier and create a score with the ```compute_score``` function:"
   ]
  },
  {
   "cell_type": "code",
   "execution_count": 90,
   "metadata": {
    "collapsed": false
   },
   "outputs": [
    {
     "data": {
      "text/plain": [
       "0.67454885776833495"
      ]
     },
     "execution_count": 90,
     "metadata": {},
     "output_type": "execute_result"
    }
   ],
   "source": [
    "from sklearn.linear_model import LogisticRegression\n",
    "\n",
    "# TODO\n",
    "lr = LogisticRegression()\n",
    "compute_score(lr, X, y)"
   ]
  },
  {
   "cell_type": "markdown",
   "metadata": {},
   "source": [
    "This score is **good** !!!\n",
    "\n",
    "But we could improve it. Let's add some features to the dataset."
   ]
  },
  {
   "cell_type": "markdown",
   "metadata": {},
   "source": [
    "# Step 3: Add the ```passenger_class``` feature"
   ]
  },
  {
   "cell_type": "markdown",
   "metadata": {},
   "source": [
    "There was 3 passenger classes on the Titanic: 1st to 3th (1st is the most rich).\n",
    "\n",
    "**Can the ```passenger_class``` help to predict the ```survived``` ?**\n",
    "\n",
    "We will combine theses columns on a bar chart from [seaborn](https://stanford.edu/~mwaskom/software/seaborn).\n",
    "\n",
    "Use the [```sns.countplot()```](https://stanford.edu/~mwaskom/software/seaborn/generated/seaborn.countplot.html) method to show it (x is ```survived```, hue is ```passenger_class```):"
   ]
  },
  {
   "cell_type": "code",
   "execution_count": 91,
   "metadata": {
    "collapsed": false
   },
   "outputs": [
    {
     "data": {
      "text/plain": [
       "<matplotlib.axes._subplots.AxesSubplot at 0x1171e47d0>"
      ]
     },
     "execution_count": 91,
     "metadata": {},
     "output_type": "execute_result"
    },
    {
     "data": {
      "image/png": "[encoded data removed]",
      "text/plain": [
       "<matplotlib.figure.Figure at 0x1171e0c90>"
      ]
     },
     "metadata": {},
     "output_type": "display_data"
    }
   ],
   "source": [
    "# TODO\n",
    "sns.countplot(x='survived', hue='passenger_class', data=df)"
   ]
  },
  {
   "cell_type": "markdown",
   "metadata": {},
   "source": [
    "It's obvious! If you bought a 3th class ticket, you died.\n",
    "\n",
    "Let's add the ```passenger_class``` to our ```X``` dataset."
   ]
  },
  {
   "cell_type": "code",
   "execution_count": 92,
   "metadata": {
    "collapsed": true
   },
   "outputs": [],
   "source": [
    "# TODO\n",
    "X = df[['fare', 'sibling_spouse', 'parent_children', 'passenger_class']]"
   ]
  },
  {
   "cell_type": "markdown",
   "metadata": {},
   "source": [
    "And score with our [```LogisticRegression```](http://scikit-learn.org/stable/modules/generated/sklearn.linear_model.LogisticRegression.html#sklearn.linear_model.LogisticRegression) classifier:\n",
    "\n",
    "**WARNING**: Execute it but it cannot work!"
   ]
  },
  {
   "cell_type": "code",
   "execution_count": 93,
   "metadata": {
    "collapsed": false,
    "scrolled": true
   },
   "outputs": [],
   "source": [
    "# TODO\n",
    "#lr = LogisticRegression()\n",
    "#compute_score(lr, X, y)"
   ]
  },
  {
   "cell_type": "markdown",
   "metadata": {},
   "source": [
    "It cannot work!\n",
    "\n",
    "We added a **Categorical column** to a numerical model (logistic regression).\n",
    "\n",
    "To convert categorical column to numerical column, we use the One Versus All trick.\n",
    "\n",
    "We have 3 columns, one by category (c1, c2 or c3). If the passenger is in a category, value is 1. Otherwise, value is 0.\n",
    "\n",
    "```\n",
    "cl1 = [1, 0, 0]\n",
    "cl2 = [0, 1, 0]\n",
    "cl3 = [0, 0, 1]\n",
    "```\n",
    "\n",
    "Fortunately, Pandas has a method [```pd.get_dummies```](http://pandas.pydata.org/pandas-docs/stable/generated/pandas.get_dummies.html) to create column. \n",
    "\n",
    "The syntax is :\n",
    "\n",
    "```\n",
    "class_dummies = pd.get_dummies(df[columns], columns=columns)\n",
    "```\n",
    "\n",
    "(```columns``` is an array of names)\n",
    "\n",
    "Create all columns and affect them to the ```class_dummies``` value:"
   ]
  },
  {
   "cell_type": "code",
   "execution_count": 94,
   "metadata": {
    "collapsed": false,
    "scrolled": false
   },
   "outputs": [],
   "source": [
    "# TODO\n",
    "columns = ['passenger_class']\n",
    "class_dummies = pd.get_dummies(df[columns], columns=columns)"
   ]
  },
  {
   "cell_type": "markdown",
   "metadata": {},
   "source": [
    "Let's see the head of ```class_dummies```:"
   ]
  },
  {
   "cell_type": "code",
   "execution_count": 95,
   "metadata": {
    "collapsed": false
   },
   "outputs": [
    {
     "data": {
      "text/html": [
       "<div>\n",
       "<table border=\"1\" class=\"dataframe\">\n",
       "  <thead>\n",
       "    <tr style=\"text-align: right;\">\n",
       "      <th></th>\n",
       "      <th>passenger_class_cl1</th>\n",
       "      <th>passenger_class_cl2</th>\n",
       "      <th>passenger_class_cl3</th>\n",
       "    </tr>\n",
       "  </thead>\n",
       "  <tbody>\n",
       "    <tr>\n",
       "      <th>0</th>\n",
       "      <td>0</td>\n",
       "      <td>0</td>\n",
       "      <td>1</td>\n",
       "    </tr>\n",
       "    <tr>\n",
       "      <th>1</th>\n",
       "      <td>1</td>\n",
       "      <td>0</td>\n",
       "      <td>0</td>\n",
       "    </tr>\n",
       "    <tr>\n",
       "      <th>2</th>\n",
       "      <td>0</td>\n",
       "      <td>0</td>\n",
       "      <td>1</td>\n",
       "    </tr>\n",
       "    <tr>\n",
       "      <th>3</th>\n",
       "      <td>1</td>\n",
       "      <td>0</td>\n",
       "      <td>0</td>\n",
       "    </tr>\n",
       "    <tr>\n",
       "      <th>4</th>\n",
       "      <td>0</td>\n",
       "      <td>0</td>\n",
       "      <td>1</td>\n",
       "    </tr>\n",
       "  </tbody>\n",
       "</table>\n",
       "</div>"
      ],
      "text/plain": [
       "   passenger_class_cl1  passenger_class_cl2  passenger_class_cl3\n",
       "0                    0                    0                    1\n",
       "1                    1                    0                    0\n",
       "2                    0                    0                    1\n",
       "3                    1                    0                    0\n",
       "4                    0                    0                    1"
      ]
     },
     "execution_count": 95,
     "metadata": {},
     "output_type": "execute_result"
    }
   ],
   "source": [
    "# TODO\n",
    "class_dummies.head()"
   ]
  },
  {
   "cell_type": "markdown",
   "metadata": {},
   "source": [
    "Now, use [```df.join```](http://pandas.pydata.org/pandas-docs/stable/generated/pandas.DataFrame.join.html) method to merge previous columns with ```class_dummies``` and create the ```X``` dataset:"
   ]
  },
  {
   "cell_type": "code",
   "execution_count": 96,
   "metadata": {
    "collapsed": true
   },
   "outputs": [],
   "source": [
    "# TODO\n",
    "X = df[['fare', 'sibling_spouse', 'parent_children']].join(class_dummies)"
   ]
  },
  {
   "cell_type": "markdown",
   "metadata": {},
   "source": [
    "And score with our [```LogisticRegression```](http://scikit-learn.org/stable/modules/generated/sklearn.linear_model.LogisticRegression.html#sklearn.linear_model.LogisticRegression) classifier:"
   ]
  },
  {
   "cell_type": "code",
   "execution_count": 97,
   "metadata": {
    "collapsed": false
   },
   "outputs": [
    {
     "data": {
      "text/plain": [
       "0.6926591973081655"
      ]
     },
     "execution_count": 97,
     "metadata": {},
     "output_type": "execute_result"
    }
   ],
   "source": [
    "# TODO\n",
    "lr = LogisticRegression()\n",
    "compute_score(lr, X, y)"
   ]
  },
  {
   "cell_type": "markdown",
   "metadata": {},
   "source": [
    "We improved the score with **2 points** !!!\n",
    "\n",
    "Let's continue :)"
   ]
  },
  {
   "cell_type": "markdown",
   "metadata": {},
   "source": [
    "# Step 4: Add the ```gender``` feature"
   ]
  },
  {
   "cell_type": "markdown",
   "metadata": {},
   "source": [
    "On a boat, **Women and children first !**\n",
    "\n",
    "**Can the ```gender``` help to predict the ```survived``` ?**\n",
    "\n",
    "We will combine theses columns on a bar chart.\n",
    "\n",
    "Use the [```sns.countplot()```](https://stanford.edu/~mwaskom/software/seaborn/generated/seaborn.countplot.html) method to show it (x is ```survived```, hue is ```gender```):"
   ]
  },
  {
   "cell_type": "code",
   "execution_count": 98,
   "metadata": {
    "collapsed": false
   },
   "outputs": [
    {
     "data": {
      "text/plain": [
       "<matplotlib.axes._subplots.AxesSubplot at 0x1171f4650>"
      ]
     },
     "execution_count": 98,
     "metadata": {},
     "output_type": "execute_result"
    },
    {
     "data": {
      "image/png": "[encoded data removed]",
      "text/plain": [
       "<matplotlib.figure.Figure at 0x1173a27d0>"
      ]
     },
     "metadata": {},
     "output_type": "display_data"
    }
   ],
   "source": [
    "# TODO\n",
    "sns.countplot(x='survived', hue='gender', data=df)"
   ]
  },
  {
   "cell_type": "markdown",
   "metadata": {},
   "source": [
    "It's obvious ! Men **died** and women **lived**.\n",
    "\n",
    "Let's add the ```gender``` to our ```X``` dataset.\n",
    "\n",
    "Be carefull! ```gender``` is a categorical column, like ```passenger_class```.\n",
    "\n",
    "So, we need to use the [```pd.get_dummies```](http://pandas.pydata.org/pandas-docs/stable/generated/pandas.get_dummies.html) method:"
   ]
  },
  {
   "cell_type": "code",
   "execution_count": 99,
   "metadata": {
    "collapsed": false,
    "scrolled": true
   },
   "outputs": [],
   "source": [
    "# TODO\n",
    "columns = ['passenger_class', 'gender']\n",
    "class_dummies = pd.get_dummies(df[columns], columns=columns)"
   ]
  },
  {
   "cell_type": "markdown",
   "metadata": {},
   "source": [
    "Now, use [```df.join```](http://pandas.pydata.org/pandas-docs/stable/generated/pandas.DataFrame.join.html) method to merge previous columns with ```class_dummies``` and create the ```X``` dataset:"
   ]
  },
  {
   "cell_type": "code",
   "execution_count": 100,
   "metadata": {
    "collapsed": true
   },
   "outputs": [],
   "source": [
    "# TODO\n",
    "X = df[['fare', 'sibling_spouse', 'parent_children']].join(class_dummies)"
   ]
  },
  {
   "cell_type": "markdown",
   "metadata": {},
   "source": [
    "And score with our [```LogisticRegression```](http://scikit-learn.org/stable/modules/generated/sklearn.linear_model.LogisticRegression.html#sklearn.linear_model.LogisticRegression) classifier:"
   ]
  },
  {
   "cell_type": "code",
   "execution_count": 101,
   "metadata": {
    "collapsed": false
   },
   "outputs": [
    {
     "data": {
      "text/plain": [
       "0.79461193345454817"
      ]
     },
     "execution_count": 101,
     "metadata": {},
     "output_type": "execute_result"
    }
   ],
   "source": [
    "# TODO\n",
    "lr = LogisticRegression()\n",
    "compute_score(lr, X, y)"
   ]
  },
  {
   "cell_type": "markdown",
   "metadata": {},
   "source": [
    "We improved the score with **10 points** !!! ```gender``` is a very good ```feature```.\n",
    "\n",
    "Let's continue to improve our score :)"
   ]
  },
  {
   "cell_type": "markdown",
   "metadata": {},
   "source": [
    "# Step 5: Create the is_child feature"
   ]
  },
  {
   "cell_type": "markdown",
   "metadata": {},
   "source": [
    "**Can the ```age``` help to predict the ```survived``` ?**\n",
    "\n",
    "We will combine theses columns on a violin chart (because ```age``` is a discrete value).\n",
    "\n",
    "Use the [```sns.violinplot()```](https://stanford.edu/~mwaskom/software/seaborn/generated/seaborn.violinplot.html#seaborn.violinplot) method to show it (x is ```survived```, y is ```age```):"
   ]
  },
  {
   "cell_type": "code",
   "execution_count": 102,
   "metadata": {
    "collapsed": false,
    "scrolled": false
   },
   "outputs": [
    {
     "data": {
      "text/plain": [
       "<matplotlib.axes._subplots.AxesSubplot at 0x1171f4890>"
      ]
     },
     "execution_count": 102,
     "metadata": {},
     "output_type": "execute_result"
    },
    {
     "data": {
      "image/png": "[encoded data removed]",
      "text/plain": [
       "<matplotlib.figure.Figure at 0x117711dd0>"
      ]
     },
     "metadata": {},
     "output_type": "display_data"
    }
   ],
   "source": [
    "# TODO\n",
    "sns.violinplot(x='survived', y='age', data=df)"
   ]
  },
  {
   "cell_type": "markdown",
   "metadata": {},
   "source": [
    "This time, it is not obvious.\n",
    "\n",
    "Be if we have a clother look at the ```survived``` violin, there is are lot of passenger under 8 years old who survived!\n",
    "\n",
    "So, we can create a new feature ```is_child``` to help our model.\n",
    "\n",
    "However, remember the data analysis ! The age column contains empty values. So we need to fill them. But, we need to carefully choose the value: it could downgrade our score. A good choice is to use the **median**.\n",
    "\n",
    "Combine [```df.fillna()```](http://pandas.pydata.org/pandas-docs/stable/generated/pandas.DataFrame.fillna.html) method and [```df.median()```](http://pandas.pydata.org/pandas-docs/stable/generated/pandas.DataFrame.median.html) method to fill empty value:"
   ]
  },
  {
   "cell_type": "code",
   "execution_count": 103,
   "metadata": {
    "collapsed": true
   },
   "outputs": [],
   "source": [
    "# TODO\n",
    "df.age = df.age.fillna(df.age.median())"
   ]
  },
  {
   "cell_type": "markdown",
   "metadata": {},
   "source": [
    "Now, all values are filled.\n",
    "\n",
    "Let's create a new column **is_child** if the age is stricly under 8 :"
   ]
  },
  {
   "cell_type": "code",
   "execution_count": 104,
   "metadata": {
    "collapsed": true
   },
   "outputs": [],
   "source": [
    "# TODO\n",
    "df['is_child'] = df.age < 8"
   ]
  },
  {
   "cell_type": "markdown",
   "metadata": {},
   "source": [
    "Now, create the ```X``` dataset with ```is_child```:"
   ]
  },
  {
   "cell_type": "code",
   "execution_count": 105,
   "metadata": {
    "collapsed": false,
    "scrolled": true
   },
   "outputs": [],
   "source": [
    "# TODO\n",
    "columns = ['passenger_class', 'gender']\n",
    "class_dummies = pd.get_dummies(df[columns], columns=columns)\n",
    "    \n",
    "X = df[['fare', 'sibling_spouse', 'parent_children', 'is_child']].join(class_dummies)"
   ]
  },
  {
   "cell_type": "markdown",
   "metadata": {},
   "source": [
    "And score with our [```LogisticRegression```](http://scikit-learn.org/stable/modules/generated/sklearn.linear_model.LogisticRegression.html#sklearn.linear_model.LogisticRegression) classifier:"
   ]
  },
  {
   "cell_type": "code",
   "execution_count": 106,
   "metadata": {
    "collapsed": false
   },
   "outputs": [
    {
     "data": {
      "text/plain": [
       "0.80696541972851143"
      ]
     },
     "execution_count": 106,
     "metadata": {},
     "output_type": "execute_result"
    }
   ],
   "source": [
    "# TODO\n",
    "lr = LogisticRegression()\n",
    "compute_score(lr, X, y)"
   ]
  },
  {
   "cell_type": "markdown",
   "metadata": {},
   "source": [
    "We improved the score with **1 point** !!!\n",
    "\n",
    "Let's change our algorithm :)"
   ]
  },
  {
   "cell_type": "markdown",
   "metadata": {},
   "source": [
    "# Step 6: Replace algorithm by a Random Forest"
   ]
  },
  {
   "cell_type": "markdown",
   "metadata": {},
   "source": [
    "For previous steps, we used a logical regression. Let's try another algorithm, the Random Forest !\n",
    "\n",
    "Use the [```RandomForestClassifier```](http://scikit-learn.org/stable/modules/generated/sklearn.ensemble.RandomForestClassifier.html) with 100 estimators :"
   ]
  },
  {
   "cell_type": "code",
   "execution_count": 107,
   "metadata": {
    "collapsed": false,
    "scrolled": true
   },
   "outputs": [
    {
     "data": {
      "text/plain": [
       "0.81150980552786434"
      ]
     },
     "execution_count": 107,
     "metadata": {},
     "output_type": "execute_result"
    }
   ],
   "source": [
    "from sklearn.ensemble import RandomForestClassifier\n",
    "\n",
    "# TODO\n",
    "rf = RandomForestClassifier(n_estimators=100)\n",
    "compute_score(rf, X, y)"
   ]
  },
  {
   "cell_type": "markdown",
   "metadata": {},
   "source": [
    "We improved the score with **1 point** !!!\n",
    "\n",
    "You're a good datascientist :)"
   ]
  }
 ],
 "metadata": {
  "kernelspec": {
   "display_name": "Python 2",
   "language": "python",
   "name": "python2"
  },
  "language_info": {
   "codemirror_mode": {
    "name": "ipython",
    "version": 2
   },
   "file_extension": ".py",
   "mimetype": "text/x-python",
   "name": "python",
   "nbconvert_exporter": "python",
   "pygments_lexer": "ipython2",
   "version": "2.7.10"
  }
 },
 "nbformat": 4,
 "nbformat_minor": 0
}
